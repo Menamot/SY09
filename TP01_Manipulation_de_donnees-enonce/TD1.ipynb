{
 "cells": [
  {
   "cell_type": "code",
   "execution_count": 1,
   "metadata": {
    "collapsed": true
   },
   "outputs": [],
   "source": [
    "import pandas as pd\n",
    "from io import StringIO\n",
    "\n",
    "\n",
    "# 1.1\n",
    "# 1\n",
    "X = pd.read_csv(\"data/sy02-p2016.csv\")"
   ]
  },
  {
   "cell_type": "code",
   "execution_count": 2,
   "outputs": [
    {
     "data": {
      "text/plain": "<bound method DataFrame.info of         nom specialite  niveau statut dernier diplome obtenu  note median  \\\n0      Etu1         GI       4    UTC                    BAC          6.5   \n1      Etu2         GB       2    UTC                    DUT          6.5   \n2      Etu3        GSU       4    UTC                    BAC         14.0   \n3      Etu4        GSM       2    UTC                    BAC         13.0   \n4      Etu5         GI       4    UTC                    DUT          7.5   \n..      ...        ...     ...    ...                    ...          ...   \n291  Etu292         GB       2    UTC                    BTS          8.5   \n292  Etu293         GB       2    UTC                    BAC         13.5   \n293  Etu294        GSU       2    UTC                    BAC         12.0   \n294  Etu295        GSU       2    UTC                    DUT         12.0   \n295  Etu296        GSU       4    UTC                    BAC          9.5   \n\n    correcteur median  note final correcteur final  note totale resultat  \n0                Cor6         5.0             Cor4          5.6        F  \n1                Cor6        13.0             Cor4         10.4        E  \n2                Cor2        17.0             Cor3         15.8        B  \n3                Cor2        13.5             Cor3         13.3        C  \n4                Cor2        11.5             Cor3          9.9       Fx  \n..                ...         ...              ...          ...      ...  \n291              Cor5         9.0             Cor7          8.8       Fx  \n292              Cor4        18.0             Cor6         16.2        B  \n293              Cor5        15.0             Cor7         13.8        C  \n294              Cor6        18.0             Cor7         15.6        B  \n295              Cor5        10.5             Cor7         10.1        E  \n\n[296 rows x 11 columns]>"
     },
     "execution_count": 2,
     "metadata": {},
     "output_type": "execute_result"
    }
   ],
   "source": [
    "X.shape\n",
    "X.info"
   ],
   "metadata": {
    "collapsed": false
   }
  },
  {
   "cell_type": "code",
   "execution_count": 3,
   "outputs": [
    {
     "name": "stdout",
     "output_type": "stream",
     "text": [
      "(296, 11) (296, 11) (296, 11) (296, 11) (296, 11)\n"
     ]
    }
   ],
   "source": [
    "X2 = pd.read_csv(\"data/sy02-p2016-2.csv\", sep='&')\n",
    "X3 = pd.read_csv(\"data/sy02-p2016-3.csv\", sep='\\t')\n",
    "X4 = pd.read_csv(\"data/sy02-p2016-4.csv\", sep=';')\n",
    "X5 = pd.read_csv(\"data/sy02-p2016-5.csv\", sep=' ', index_col=0)\n",
    "print(X.shape, X2.shape, X3.shape, X4.shape, X5.shape)"
   ],
   "metadata": {
    "collapsed": false
   }
  },
  {
   "cell_type": "code",
   "execution_count": 4,
   "outputs": [
    {
     "name": "stdout",
     "output_type": "stream",
     "text": [
      "0    int64\n",
      "dtype: object\n",
      "0    float64\n",
      "dtype: object\n",
      "0    object\n",
      "dtype: object\n",
      "0    bool\n",
      "dtype: object\n"
     ]
    }
   ],
   "source": [
    "# 1.2\n",
    "df = pd.read_csv(StringIO(\"0\\n1.4\"), header=None)\n",
    "\n",
    "print(pd.read_csv(StringIO(\"0\\n1\"), header=None).dtypes)\n",
    "print(pd.read_csv(StringIO(\"0\\n1.3\"), header=None).dtypes)\n",
    "print(pd.read_csv(StringIO(\"T\\nF\"), header=None).dtypes)\n",
    "print(pd.read_csv(StringIO(\"True\\nFalse\"), header=None).dtypes)"
   ],
   "metadata": {
    "collapsed": false
   }
  },
  {
   "cell_type": "code",
   "execution_count": 5,
   "outputs": [
    {
     "name": "stdout",
     "output_type": "stream",
     "text": [
      "<class 'pandas.core.frame.DataFrame'>\n",
      "RangeIndex: 296 entries, 0 to 295\n",
      "Data columns (total 11 columns):\n",
      " #   Column                  Non-Null Count  Dtype   \n",
      "---  ------                  --------------  -----   \n",
      " 0   nom                     296 non-null    object  \n",
      " 1   specialite              296 non-null    category\n",
      " 2   niveau                  296 non-null    int64   \n",
      " 3   statut                  296 non-null    category\n",
      " 4   dernier diplome obtenu  290 non-null    category\n",
      " 5   note median             293 non-null    float64 \n",
      " 6   correcteur median       293 non-null    category\n",
      " 7   note final              284 non-null    float64 \n",
      " 8   correcteur final        284 non-null    category\n",
      " 9   note totale             284 non-null    float64 \n",
      " 10  resultat                296 non-null    category\n",
      "dtypes: category(6), float64(3), int64(1), object(1)\n",
      "memory usage: 15.4+ KB\n"
     ]
    }
   ],
   "source": [
    "# 4\n",
    "X.specialite = pd.Categorical(X.specialite)\n",
    "X.statut = pd.Categorical(X.statut)\n",
    "X[\"dernier diplome obtenu\"] = pd.Categorical(X[\"dernier diplome obtenu\"])\n",
    "\n",
    "\n",
    "# X[\"correcteur median\"] = pd.Categorical(X[\"correcteur median\"])\n",
    "# X[\"correcteur final\"] = pd.Categorical(X[\"correcteur final\"])\n",
    "# 不懂上面和下面这两种方式有什么区别\n",
    "correcteur_type = pd.CategoricalDtype(pd.concat([X[\"correcteur final\"], X[\"correcteur median\"]]).dropna().unique())\n",
    "X[\"correcteur median\"] = X[\"correcteur median\"].astype(correcteur_type)\n",
    "X[\"correcteur final\"] = X[\"correcteur final\"].astype(correcteur_type)\n",
    "\n",
    "X.resultat = pd.Categorical(X.resultat, categories=[\"ABS\", \"F\", \"Fx\", \"E\", \"D\", \"C\", \"B\", \"A\"], ordered=True)\n",
    "X.info()"
   ],
   "metadata": {
    "collapsed": false
   }
  },
  {
   "cell_type": "code",
   "execution_count": 6,
   "outputs": [
    {
     "name": "stdout",
     "output_type": "stream",
     "text": [
      "  Semestre  SY02  SY09  SY19\n",
      "0    P2019   220  75.0   NaN\n",
      "1    A2019   180   NaN  82.0\n",
      "2    A2018   200   NaN  78.0\n",
      "3    P2018   210  76.0   NaN\n",
      "4    A2017   189   NaN  69.0\n"
     ]
    }
   ],
   "source": [
    "# 1.3\n",
    "# 5\n",
    "X = pd.read_csv(\"data/effectifs.csv\")\n",
    "\n",
    "X = X.assign(Semestre=X.Semestre.str[8:])\n",
    "# X.Semestre = X.Semestre.str[8:]  # 感觉这种方式也可以\n",
    "print(X.head())"
   ],
   "metadata": {
    "collapsed": false
   }
  },
  {
   "cell_type": "code",
   "execution_count": 7,
   "outputs": [
    {
     "data": {
      "text/plain": "   SY02  SY09  SY19 Saison Annee\n0   220  75.0   NaN      P  2019\n1   180   NaN  82.0      A  2019\n2   200   NaN  78.0      A  2018\n3   210  76.0   NaN      P  2018\n4   189   NaN  69.0      A  2017",
      "text/html": "<div>\n<style scoped>\n    .dataframe tbody tr th:only-of-type {\n        vertical-align: middle;\n    }\n\n    .dataframe tbody tr th {\n        vertical-align: top;\n    }\n\n    .dataframe thead th {\n        text-align: right;\n    }\n</style>\n<table border=\"1\" class=\"dataframe\">\n  <thead>\n    <tr style=\"text-align: right;\">\n      <th></th>\n      <th>SY02</th>\n      <th>SY09</th>\n      <th>SY19</th>\n      <th>Saison</th>\n      <th>Annee</th>\n    </tr>\n  </thead>\n  <tbody>\n    <tr>\n      <th>0</th>\n      <td>220</td>\n      <td>75.0</td>\n      <td>NaN</td>\n      <td>P</td>\n      <td>2019</td>\n    </tr>\n    <tr>\n      <th>1</th>\n      <td>180</td>\n      <td>NaN</td>\n      <td>82.0</td>\n      <td>A</td>\n      <td>2019</td>\n    </tr>\n    <tr>\n      <th>2</th>\n      <td>200</td>\n      <td>NaN</td>\n      <td>78.0</td>\n      <td>A</td>\n      <td>2018</td>\n    </tr>\n    <tr>\n      <th>3</th>\n      <td>210</td>\n      <td>76.0</td>\n      <td>NaN</td>\n      <td>P</td>\n      <td>2018</td>\n    </tr>\n    <tr>\n      <th>4</th>\n      <td>189</td>\n      <td>NaN</td>\n      <td>69.0</td>\n      <td>A</td>\n      <td>2017</td>\n    </tr>\n  </tbody>\n</table>\n</div>"
     },
     "execution_count": 7,
     "metadata": {},
     "output_type": "execute_result"
    }
   ],
   "source": [
    "# 6\n",
    "X = X.assign(Saison=X.Semestre.str[0])\n",
    "X = X.assign(Annee=X.Semestre.str[1:])\n",
    "X.drop(columns=\"Semestre\", inplace=True)  # 注意不要先drop了\n",
    "X.head()"
   ],
   "metadata": {
    "collapsed": false
   }
  },
  {
   "cell_type": "code",
   "execution_count": 8,
   "outputs": [
    {
     "data": {
      "text/plain": "   Saison Annee    UV  effectif\n0       P  2019  SY02       220\n1       A  2019  SY02       180\n2       A  2018  SY02       200\n3       P  2018  SY02       210\n4       A  2017  SY02       189\n5       P  2017  SY02       230\n6       A  2016  SY02       213\n7       P  2016  SY02       242\n8       P  2019  SY09        75\n11      P  2018  SY09        76\n13      P  2017  SY09       102\n15      P  2016  SY09        93\n17      A  2019  SY19        82\n18      A  2018  SY19        78\n20      A  2017  SY19        69\n22      A  2016  SY19        52",
      "text/html": "<div>\n<style scoped>\n    .dataframe tbody tr th:only-of-type {\n        vertical-align: middle;\n    }\n\n    .dataframe tbody tr th {\n        vertical-align: top;\n    }\n\n    .dataframe thead th {\n        text-align: right;\n    }\n</style>\n<table border=\"1\" class=\"dataframe\">\n  <thead>\n    <tr style=\"text-align: right;\">\n      <th></th>\n      <th>Saison</th>\n      <th>Annee</th>\n      <th>UV</th>\n      <th>effectif</th>\n    </tr>\n  </thead>\n  <tbody>\n    <tr>\n      <th>0</th>\n      <td>P</td>\n      <td>2019</td>\n      <td>SY02</td>\n      <td>220</td>\n    </tr>\n    <tr>\n      <th>1</th>\n      <td>A</td>\n      <td>2019</td>\n      <td>SY02</td>\n      <td>180</td>\n    </tr>\n    <tr>\n      <th>2</th>\n      <td>A</td>\n      <td>2018</td>\n      <td>SY02</td>\n      <td>200</td>\n    </tr>\n    <tr>\n      <th>3</th>\n      <td>P</td>\n      <td>2018</td>\n      <td>SY02</td>\n      <td>210</td>\n    </tr>\n    <tr>\n      <th>4</th>\n      <td>A</td>\n      <td>2017</td>\n      <td>SY02</td>\n      <td>189</td>\n    </tr>\n    <tr>\n      <th>5</th>\n      <td>P</td>\n      <td>2017</td>\n      <td>SY02</td>\n      <td>230</td>\n    </tr>\n    <tr>\n      <th>6</th>\n      <td>A</td>\n      <td>2016</td>\n      <td>SY02</td>\n      <td>213</td>\n    </tr>\n    <tr>\n      <th>7</th>\n      <td>P</td>\n      <td>2016</td>\n      <td>SY02</td>\n      <td>242</td>\n    </tr>\n    <tr>\n      <th>8</th>\n      <td>P</td>\n      <td>2019</td>\n      <td>SY09</td>\n      <td>75</td>\n    </tr>\n    <tr>\n      <th>11</th>\n      <td>P</td>\n      <td>2018</td>\n      <td>SY09</td>\n      <td>76</td>\n    </tr>\n    <tr>\n      <th>13</th>\n      <td>P</td>\n      <td>2017</td>\n      <td>SY09</td>\n      <td>102</td>\n    </tr>\n    <tr>\n      <th>15</th>\n      <td>P</td>\n      <td>2016</td>\n      <td>SY09</td>\n      <td>93</td>\n    </tr>\n    <tr>\n      <th>17</th>\n      <td>A</td>\n      <td>2019</td>\n      <td>SY19</td>\n      <td>82</td>\n    </tr>\n    <tr>\n      <th>18</th>\n      <td>A</td>\n      <td>2018</td>\n      <td>SY19</td>\n      <td>78</td>\n    </tr>\n    <tr>\n      <th>20</th>\n      <td>A</td>\n      <td>2017</td>\n      <td>SY19</td>\n      <td>69</td>\n    </tr>\n    <tr>\n      <th>22</th>\n      <td>A</td>\n      <td>2016</td>\n      <td>SY19</td>\n      <td>52</td>\n    </tr>\n  </tbody>\n</table>\n</div>"
     },
     "execution_count": 8,
     "metadata": {},
     "output_type": "execute_result"
    }
   ],
   "source": [
    "X = X.melt(id_vars=[\"Saison\", \"Annee\"], value_name=\"effectif\", var_name=\"UV\")\n",
    "X = X.loc[~pd.isna(X.effectif)]  # 用于选择非空数据行\n",
    "X = X.assign(effectif=X.effectif.astype(int))\n",
    "X"
   ],
   "metadata": {
    "collapsed": false
   }
  },
  {
   "cell_type": "code",
   "execution_count": 9,
   "outputs": [
    {
     "data": {
      "text/plain": "       species      variable  value\n0       setosa  sepal_length    5.1\n1       setosa  sepal_length    4.9\n2       setosa  sepal_length    4.7\n3       setosa  sepal_length    4.6\n4       setosa  sepal_length    5.0\n..         ...           ...    ...\n595  virginica   petal_width    2.3\n596  virginica   petal_width    1.9\n597  virginica   petal_width    2.0\n598  virginica   petal_width    2.3\n599  virginica   petal_width    1.8\n\n[600 rows x 3 columns]",
      "text/html": "<div>\n<style scoped>\n    .dataframe tbody tr th:only-of-type {\n        vertical-align: middle;\n    }\n\n    .dataframe tbody tr th {\n        vertical-align: top;\n    }\n\n    .dataframe thead th {\n        text-align: right;\n    }\n</style>\n<table border=\"1\" class=\"dataframe\">\n  <thead>\n    <tr style=\"text-align: right;\">\n      <th></th>\n      <th>species</th>\n      <th>variable</th>\n      <th>value</th>\n    </tr>\n  </thead>\n  <tbody>\n    <tr>\n      <th>0</th>\n      <td>setosa</td>\n      <td>sepal_length</td>\n      <td>5.1</td>\n    </tr>\n    <tr>\n      <th>1</th>\n      <td>setosa</td>\n      <td>sepal_length</td>\n      <td>4.9</td>\n    </tr>\n    <tr>\n      <th>2</th>\n      <td>setosa</td>\n      <td>sepal_length</td>\n      <td>4.7</td>\n    </tr>\n    <tr>\n      <th>3</th>\n      <td>setosa</td>\n      <td>sepal_length</td>\n      <td>4.6</td>\n    </tr>\n    <tr>\n      <th>4</th>\n      <td>setosa</td>\n      <td>sepal_length</td>\n      <td>5.0</td>\n    </tr>\n    <tr>\n      <th>...</th>\n      <td>...</td>\n      <td>...</td>\n      <td>...</td>\n    </tr>\n    <tr>\n      <th>595</th>\n      <td>virginica</td>\n      <td>petal_width</td>\n      <td>2.3</td>\n    </tr>\n    <tr>\n      <th>596</th>\n      <td>virginica</td>\n      <td>petal_width</td>\n      <td>1.9</td>\n    </tr>\n    <tr>\n      <th>597</th>\n      <td>virginica</td>\n      <td>petal_width</td>\n      <td>2.0</td>\n    </tr>\n    <tr>\n      <th>598</th>\n      <td>virginica</td>\n      <td>petal_width</td>\n      <td>2.3</td>\n    </tr>\n    <tr>\n      <th>599</th>\n      <td>virginica</td>\n      <td>petal_width</td>\n      <td>1.8</td>\n    </tr>\n  </tbody>\n</table>\n<p>600 rows × 3 columns</p>\n</div>"
     },
     "execution_count": 9,
     "metadata": {},
     "output_type": "execute_result"
    }
   ],
   "source": [
    "import seaborn as sns\n",
    "iris = sns.load_dataset(\"iris\")\n",
    "iris = iris.melt(id_vars=\"species\")\n",
    "iris"
   ],
   "metadata": {
    "collapsed": false
   }
  },
  {
   "cell_type": "code",
   "execution_count": 10,
   "outputs": [
    {
     "data": {
      "text/plain": "       species  value   type     dim\n0       setosa    5.1  sepal  length\n1       setosa    4.9  sepal  length\n2       setosa    4.7  sepal  length\n3       setosa    4.6  sepal  length\n4       setosa    5.0  sepal  length\n..         ...    ...    ...     ...\n595  virginica    2.3  petal   width\n596  virginica    1.9  petal   width\n597  virginica    2.0  petal   width\n598  virginica    2.3  petal   width\n599  virginica    1.8  petal   width\n\n[600 rows x 4 columns]",
      "text/html": "<div>\n<style scoped>\n    .dataframe tbody tr th:only-of-type {\n        vertical-align: middle;\n    }\n\n    .dataframe tbody tr th {\n        vertical-align: top;\n    }\n\n    .dataframe thead th {\n        text-align: right;\n    }\n</style>\n<table border=\"1\" class=\"dataframe\">\n  <thead>\n    <tr style=\"text-align: right;\">\n      <th></th>\n      <th>species</th>\n      <th>value</th>\n      <th>type</th>\n      <th>dim</th>\n    </tr>\n  </thead>\n  <tbody>\n    <tr>\n      <th>0</th>\n      <td>setosa</td>\n      <td>5.1</td>\n      <td>sepal</td>\n      <td>length</td>\n    </tr>\n    <tr>\n      <th>1</th>\n      <td>setosa</td>\n      <td>4.9</td>\n      <td>sepal</td>\n      <td>length</td>\n    </tr>\n    <tr>\n      <th>2</th>\n      <td>setosa</td>\n      <td>4.7</td>\n      <td>sepal</td>\n      <td>length</td>\n    </tr>\n    <tr>\n      <th>3</th>\n      <td>setosa</td>\n      <td>4.6</td>\n      <td>sepal</td>\n      <td>length</td>\n    </tr>\n    <tr>\n      <th>4</th>\n      <td>setosa</td>\n      <td>5.0</td>\n      <td>sepal</td>\n      <td>length</td>\n    </tr>\n    <tr>\n      <th>...</th>\n      <td>...</td>\n      <td>...</td>\n      <td>...</td>\n      <td>...</td>\n    </tr>\n    <tr>\n      <th>595</th>\n      <td>virginica</td>\n      <td>2.3</td>\n      <td>petal</td>\n      <td>width</td>\n    </tr>\n    <tr>\n      <th>596</th>\n      <td>virginica</td>\n      <td>1.9</td>\n      <td>petal</td>\n      <td>width</td>\n    </tr>\n    <tr>\n      <th>597</th>\n      <td>virginica</td>\n      <td>2.0</td>\n      <td>petal</td>\n      <td>width</td>\n    </tr>\n    <tr>\n      <th>598</th>\n      <td>virginica</td>\n      <td>2.3</td>\n      <td>petal</td>\n      <td>width</td>\n    </tr>\n    <tr>\n      <th>599</th>\n      <td>virginica</td>\n      <td>1.8</td>\n      <td>petal</td>\n      <td>width</td>\n    </tr>\n  </tbody>\n</table>\n<p>600 rows × 4 columns</p>\n</div>"
     },
     "execution_count": 10,
     "metadata": {},
     "output_type": "execute_result"
    }
   ],
   "source": [
    "# iris = iris.assign(type=iris.variable.str[:5], dim=iris.variable.str[6:])\n",
    "# 或者\n",
    "iris = iris.assign(type=iris.variable.str.split('_', expand=True)[0], dim=iris.variable.str.split('_', expand=True)[1])\n",
    "iris = iris.drop(columns=[\"variable\"])\n",
    "iris"
   ],
   "metadata": {
    "collapsed": false
   }
  },
  {
   "cell_type": "code",
   "execution_count": 11,
   "outputs": [
    {
     "data": {
      "text/plain": "      bwt  gestation  parity  age  height  weight  smoke  education\n0     120        284       1   27      62     100      0          5\n1     113        282       2   33      64     135      0          5\n2     128        279       1   28      64     115      1          2\n3     123        999       2   36      69     190      3          5\n4     108        282       1   23      67     125      1          5\n...   ...        ...     ...  ...     ...     ...    ...        ...\n1231  113        275       0   27      60     100      0          5\n1232  128        265       1   24      67     120      0          5\n1233  130        291       4   30      65     150      1          2\n1234  125        281       0   21      65     110      0          4\n1235  117        297       4   38      65     129      0          4\n\n[1236 rows x 8 columns]",
      "text/html": "<div>\n<style scoped>\n    .dataframe tbody tr th:only-of-type {\n        vertical-align: middle;\n    }\n\n    .dataframe tbody tr th {\n        vertical-align: top;\n    }\n\n    .dataframe thead th {\n        text-align: right;\n    }\n</style>\n<table border=\"1\" class=\"dataframe\">\n  <thead>\n    <tr style=\"text-align: right;\">\n      <th></th>\n      <th>bwt</th>\n      <th>gestation</th>\n      <th>parity</th>\n      <th>age</th>\n      <th>height</th>\n      <th>weight</th>\n      <th>smoke</th>\n      <th>education</th>\n    </tr>\n  </thead>\n  <tbody>\n    <tr>\n      <th>0</th>\n      <td>120</td>\n      <td>284</td>\n      <td>1</td>\n      <td>27</td>\n      <td>62</td>\n      <td>100</td>\n      <td>0</td>\n      <td>5</td>\n    </tr>\n    <tr>\n      <th>1</th>\n      <td>113</td>\n      <td>282</td>\n      <td>2</td>\n      <td>33</td>\n      <td>64</td>\n      <td>135</td>\n      <td>0</td>\n      <td>5</td>\n    </tr>\n    <tr>\n      <th>2</th>\n      <td>128</td>\n      <td>279</td>\n      <td>1</td>\n      <td>28</td>\n      <td>64</td>\n      <td>115</td>\n      <td>1</td>\n      <td>2</td>\n    </tr>\n    <tr>\n      <th>3</th>\n      <td>123</td>\n      <td>999</td>\n      <td>2</td>\n      <td>36</td>\n      <td>69</td>\n      <td>190</td>\n      <td>3</td>\n      <td>5</td>\n    </tr>\n    <tr>\n      <th>4</th>\n      <td>108</td>\n      <td>282</td>\n      <td>1</td>\n      <td>23</td>\n      <td>67</td>\n      <td>125</td>\n      <td>1</td>\n      <td>5</td>\n    </tr>\n    <tr>\n      <th>...</th>\n      <td>...</td>\n      <td>...</td>\n      <td>...</td>\n      <td>...</td>\n      <td>...</td>\n      <td>...</td>\n      <td>...</td>\n      <td>...</td>\n    </tr>\n    <tr>\n      <th>1231</th>\n      <td>113</td>\n      <td>275</td>\n      <td>0</td>\n      <td>27</td>\n      <td>60</td>\n      <td>100</td>\n      <td>0</td>\n      <td>5</td>\n    </tr>\n    <tr>\n      <th>1232</th>\n      <td>128</td>\n      <td>265</td>\n      <td>1</td>\n      <td>24</td>\n      <td>67</td>\n      <td>120</td>\n      <td>0</td>\n      <td>5</td>\n    </tr>\n    <tr>\n      <th>1233</th>\n      <td>130</td>\n      <td>291</td>\n      <td>4</td>\n      <td>30</td>\n      <td>65</td>\n      <td>150</td>\n      <td>1</td>\n      <td>2</td>\n    </tr>\n    <tr>\n      <th>1234</th>\n      <td>125</td>\n      <td>281</td>\n      <td>0</td>\n      <td>21</td>\n      <td>65</td>\n      <td>110</td>\n      <td>0</td>\n      <td>4</td>\n    </tr>\n    <tr>\n      <th>1235</th>\n      <td>117</td>\n      <td>297</td>\n      <td>4</td>\n      <td>38</td>\n      <td>65</td>\n      <td>129</td>\n      <td>0</td>\n      <td>4</td>\n    </tr>\n  </tbody>\n</table>\n<p>1236 rows × 8 columns</p>\n</div>"
     },
     "execution_count": 11,
     "metadata": {},
     "output_type": "execute_result"
    }
   ],
   "source": [
    "babies = pd.read_csv(\"data/babies23.data\", sep=\"\\s+\")\n",
    "babies = babies[[\"wt\", \"gestation\", \"parity\", \"age\", \"ht\", \"wt.1\", \"smoke\", \"ed\"]]\n",
    "babies.columns = [\"bwt\", \"gestation\", \"parity\", \"age\", \"height\", \"weight\", \"smoke\", \"education\"]\n",
    "babies"
   ],
   "metadata": {
    "collapsed": false
   }
  },
  {
   "cell_type": "code",
   "execution_count": 12,
   "outputs": [
    {
     "data": {
      "text/plain": "(array([  13., 1195.,   15.,    0.,    0.,    0.,    0.,    0.,    0.,\n          13.]),\n array([148. , 233.1, 318.2, 403.3, 488.4, 573.5, 658.6, 743.7, 828.8,\n        913.9, 999. ]),\n <BarContainer object of 10 artists>)"
     },
     "execution_count": 12,
     "metadata": {},
     "output_type": "execute_result"
    },
    {
     "data": {
      "text/plain": "<Figure size 640x480 with 1 Axes>",
      "image/png": "[encoded data removed]"
     },
     "metadata": {},
     "output_type": "display_data"
    }
   ],
   "source": [
    "import matplotlib.pyplot as plt\n",
    "\n",
    "plt.hist(babies.gestation)\n"
   ],
   "metadata": {
    "collapsed": false
   }
  },
  {
   "cell_type": "code",
   "execution_count": 13,
   "outputs": [
    {
     "name": "stdout",
     "output_type": "stream",
     "text": [
      "<class 'pandas.core.frame.DataFrame'>\n",
      "RangeIndex: 1236 entries, 0 to 1235\n",
      "Data columns (total 8 columns):\n",
      " #   Column     Non-Null Count  Dtype  \n",
      "---  ------     --------------  -----  \n",
      " 0   bwt        1236 non-null   float64\n",
      " 1   gestation  1223 non-null   float64\n",
      " 2   parity     1236 non-null   int64  \n",
      " 3   age        1234 non-null   float64\n",
      " 4   height     1214 non-null   float64\n",
      " 5   weight     1200 non-null   float64\n",
      " 6   smoke      1226 non-null   float64\n",
      " 7   education  1235 non-null   float64\n",
      "dtypes: float64(7), int64(1)\n",
      "memory usage: 77.4 KB\n"
     ]
    }
   ],
   "source": [
    "import numpy as np\n",
    "\n",
    "babies.loc[babies.bwt == 999, \"bwt\"] = np.nan\n",
    "babies.loc[babies.gestation == 999, \"gestation\"] = np.nan\n",
    "babies.loc[babies.age == 99, \"age\"] = np.nan\n",
    "babies.loc[babies.height == 99, \"height\"] = np.nan\n",
    "babies.loc[babies.weight == 999, \"weight\"] = np.nan\n",
    "babies.loc[babies.smoke == 9, \"smoke\"] = np.nan\n",
    "babies.loc[babies.education == 9, \"education\"] = np.nan\n",
    "babies.info()"
   ],
   "metadata": {
    "collapsed": false
   }
  },
  {
   "cell_type": "code",
   "execution_count": 14,
   "outputs": [
    {
     "data": {
      "text/plain": "        bwt  gestation  parity   age  height  weight    smoke  education\n0     120.0      284.0       1  27.0    62.0   100.0  Smoking        5.0\n1     113.0      282.0       2  33.0    64.0   135.0  Smoking        5.0\n2     128.0      279.0       1  28.0    64.0   115.0  Smoking        2.0\n3     123.0        NaN       2  36.0    69.0   190.0  Smoking        5.0\n4     108.0      282.0       1  23.0    67.0   125.0  Smoking        5.0\n...     ...        ...     ...   ...     ...     ...      ...        ...\n1231  113.0      275.0       0  27.0    60.0   100.0  Smoking        5.0\n1232  128.0      265.0       1  24.0    67.0   120.0  Smoking        5.0\n1233  130.0      291.0       4  30.0    65.0   150.0  Smoking        2.0\n1234  125.0      281.0       0  21.0    65.0   110.0  Smoking        4.0\n1235  117.0      297.0       4  38.0    65.0   129.0  Smoking        4.0\n\n[1236 rows x 8 columns]",
      "text/html": "<div>\n<style scoped>\n    .dataframe tbody tr th:only-of-type {\n        vertical-align: middle;\n    }\n\n    .dataframe tbody tr th {\n        vertical-align: top;\n    }\n\n    .dataframe thead th {\n        text-align: right;\n    }\n</style>\n<table border=\"1\" class=\"dataframe\">\n  <thead>\n    <tr style=\"text-align: right;\">\n      <th></th>\n      <th>bwt</th>\n      <th>gestation</th>\n      <th>parity</th>\n      <th>age</th>\n      <th>height</th>\n      <th>weight</th>\n      <th>smoke</th>\n      <th>education</th>\n    </tr>\n  </thead>\n  <tbody>\n    <tr>\n      <th>0</th>\n      <td>120.0</td>\n      <td>284.0</td>\n      <td>1</td>\n      <td>27.0</td>\n      <td>62.0</td>\n      <td>100.0</td>\n      <td>Smoking</td>\n      <td>5.0</td>\n    </tr>\n    <tr>\n      <th>1</th>\n      <td>113.0</td>\n      <td>282.0</td>\n      <td>2</td>\n      <td>33.0</td>\n      <td>64.0</td>\n      <td>135.0</td>\n      <td>Smoking</td>\n      <td>5.0</td>\n    </tr>\n    <tr>\n      <th>2</th>\n      <td>128.0</td>\n      <td>279.0</td>\n      <td>1</td>\n      <td>28.0</td>\n      <td>64.0</td>\n      <td>115.0</td>\n      <td>Smoking</td>\n      <td>2.0</td>\n    </tr>\n    <tr>\n      <th>3</th>\n      <td>123.0</td>\n      <td>NaN</td>\n      <td>2</td>\n      <td>36.0</td>\n      <td>69.0</td>\n      <td>190.0</td>\n      <td>Smoking</td>\n      <td>5.0</td>\n    </tr>\n    <tr>\n      <th>4</th>\n      <td>108.0</td>\n      <td>282.0</td>\n      <td>1</td>\n      <td>23.0</td>\n      <td>67.0</td>\n      <td>125.0</td>\n      <td>Smoking</td>\n      <td>5.0</td>\n    </tr>\n    <tr>\n      <th>...</th>\n      <td>...</td>\n      <td>...</td>\n      <td>...</td>\n      <td>...</td>\n      <td>...</td>\n      <td>...</td>\n      <td>...</td>\n      <td>...</td>\n    </tr>\n    <tr>\n      <th>1231</th>\n      <td>113.0</td>\n      <td>275.0</td>\n      <td>0</td>\n      <td>27.0</td>\n      <td>60.0</td>\n      <td>100.0</td>\n      <td>Smoking</td>\n      <td>5.0</td>\n    </tr>\n    <tr>\n      <th>1232</th>\n      <td>128.0</td>\n      <td>265.0</td>\n      <td>1</td>\n      <td>24.0</td>\n      <td>67.0</td>\n      <td>120.0</td>\n      <td>Smoking</td>\n      <td>5.0</td>\n    </tr>\n    <tr>\n      <th>1233</th>\n      <td>130.0</td>\n      <td>291.0</td>\n      <td>4</td>\n      <td>30.0</td>\n      <td>65.0</td>\n      <td>150.0</td>\n      <td>Smoking</td>\n      <td>2.0</td>\n    </tr>\n    <tr>\n      <th>1234</th>\n      <td>125.0</td>\n      <td>281.0</td>\n      <td>0</td>\n      <td>21.0</td>\n      <td>65.0</td>\n      <td>110.0</td>\n      <td>Smoking</td>\n      <td>4.0</td>\n    </tr>\n    <tr>\n      <th>1235</th>\n      <td>117.0</td>\n      <td>297.0</td>\n      <td>4</td>\n      <td>38.0</td>\n      <td>65.0</td>\n      <td>129.0</td>\n      <td>Smoking</td>\n      <td>4.0</td>\n    </tr>\n  </tbody>\n</table>\n<p>1236 rows × 8 columns</p>\n</div>"
     },
     "execution_count": 14,
     "metadata": {},
     "output_type": "execute_result"
    }
   ],
   "source": [
    "mask = babies.smoke == 1\n",
    "babies.loc[babies.smoke == 1,\"smoke\"] = \"Smoking\"\n",
    "# babies.loc[~(babies.smoke == 1),\"smoke\"] = \"NonSmoking\"  # 这就是为什么用mask做变量，在上一步中已经把1全部换位Smoking了，所以这里~(babies.smoke == 1)会全选\n",
    "babies.loc[~mask== 1,\"smoke\"] = \"Smoking\"\n",
    "babies"
   ],
   "metadata": {
    "collapsed": false
   }
  },
  {
   "cell_type": "code",
   "execution_count": 15,
   "outputs": [],
   "source": [
    "def Sijk(d, i, j, k):\n",
    "    return (\n",
    "            2 * d[i, j] ** 2 * d[i, k] ** 2\n",
    "            + 2 * d[i, j] ** 2 * d[j, k] ** 2\n",
    "            + 2 * d[i, k] ** 2 * d[j, k] ** 2\n",
    "            - d[i, j] ** 4\n",
    "            - d[i, k] ** 4\n",
    "            - d[j, k] ** 4\n",
    "    )\n",
    "\n",
    "\n",
    "def S_min(d):\n",
    "    N = d.shape[0]\n",
    "    return min(\n",
    "        Sijk(d, i, j, k)\n",
    "        for i in range(N)\n",
    "        for j in range(N) if j > i\n",
    "        for k in range(N) if k > j\n",
    ")"
   ],
   "metadata": {
    "collapsed": false
   }
  }
 ],
 "metadata": {
  "kernelspec": {
   "display_name": "Python 3",
   "language": "python",
   "name": "python3"
  },
  "language_info": {
   "codemirror_mode": {
    "name": "ipython",
    "version": 2
   },
   "file_extension": ".py",
   "mimetype": "text/x-python",
   "name": "python",
   "nbconvert_exporter": "python",
   "pygments_lexer": "ipython2",
   "version": "2.7.6"
  }
 },
 "nbformat": 4,
 "nbformat_minor": 0
}
